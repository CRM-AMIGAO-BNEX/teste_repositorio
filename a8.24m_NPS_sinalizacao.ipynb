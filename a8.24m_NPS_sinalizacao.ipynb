{
 "cells": [
  {
   "cell_type": "code",
   "execution_count": 4,
   "metadata": {},
   "outputs": [],
   "source": [
    "import requests\n",
    "import pandas as pd\n",
    "import numpy as np\n",
    "from itertools import chain\n",
    "from datetime import date\n",
    "import numpy as np\n",
    "import os\n",
    "from decimal import Decimal\n",
    "import re\n",
    "\n",
    "pd.set_option(\"display.max_columns\", None)"
   ]
  },
  {
   "cell_type": "code",
   "execution_count": 61,
   "metadata": {},
   "outputs": [],
   "source": [
    "#hoje = date.today()\n",
    "lista_respostas = []\n",
    "tamanho_retorno = 1\n",
    "df_list = []\n",
    "pagina = 1\n",
    "while tamanho_retorno > 0:\n",
    "    API_VARS = {\n",
    "        \"type\":\"2\",\n",
    "        \"date_from\":'2022-08-01',\n",
    "        \"date_to\":'2024-08-31',\n",
    "        \"store_status\":\"all\",\n",
    "        \"additional\":\"active\",\n",
    "        \"good_rating\":\"1\",\n",
    "        \"neutral_rating\": \"1\",\n",
    "        \"bad_rating\":\"1\",\n",
    "        \"rows_limit\":\"5000\",\n",
    "        \"page\":f\"{pagina}\"\n",
    "    }\n",
    "\n",
    "\n",
    "    url = f\"https://api.solucx.com.br/public/transaction?type={API_VARS['type']}&date_from={API_VARS['date_from']}&date_to={API_VARS['date_to']}&store_status={API_VARS['store_status']}&additional={API_VARS['additional']}&good_rating={API_VARS['good_rating']}&neutral_rating={API_VARS['neutral_rating']}&bad_rating={API_VARS['bad_rating']}&rows_limit={API_VARS['rows_limit']}&page={API_VARS['page']}\"\n",
    "\n",
    "    payload={}\n",
    "    headers = {\n",
    "    'x-solucx-api-key': '6b40168f4a4b046ad708e8599d838021',\n",
    "    'x-solucx-user-token': 'Qu0Ao483G33y9P2Tdp78'\n",
    "    }\n",
    "\n",
    "    response = requests.request(\"GET\", url, headers=headers, data=payload)\n",
    "    resposta = response.json()\n",
    "    lista_respostas.append(resposta)\n",
    "    tamanho_retorno = len(resposta)\n",
    "    pagina+=1\n",
    "\n",
    "\n",
    "lista_resposta_1d = list(chain.from_iterable( lista_respostas))"
   ]
  },
  {
   "cell_type": "code",
   "execution_count": 62,
   "metadata": {},
   "outputs": [],
   "source": [
    "lista_valores = []\n",
    "for v in lista_resposta_1d:\n",
    "    valor = dict(v)\n",
    "    positivos = []\n",
    "    negativos = []\n",
    "    try:\n",
    "        positivos = valor['rating']['motives']['positive']\n",
    "    except:\n",
    "        pass\n",
    "    try:\n",
    "        negativos = valor['rating']['motives']['negative']\n",
    "    except:\n",
    "        pass\n",
    "    #-----------------STORE--------------------------------------------------\n",
    "    try:\n",
    "        valor['store_id'] = valor['store']['id']\n",
    "    except:\n",
    "        pass\n",
    "    try:\n",
    "        valor['store_name'] = valor['store']['name']\n",
    "    except:\n",
    "        pass\n",
    "    try:\n",
    "        valor['store_external_id'] = valor['store']['external_id']\n",
    "    except:\n",
    "        pass\n",
    "    #-----------------EMPLOYEE--------------------------------------------------\n",
    "    try:\n",
    "        valor['employee_id'] = valor['employee']['id']\n",
    "    except:\n",
    "        pass\n",
    "    try:\n",
    "        valor['employee_name'] = valor['employee']['name']\n",
    "    except:\n",
    "        pass\n",
    "    try:\n",
    "        valor['employee_external_id'] = valor['employee']['external_id']\n",
    "    except:\n",
    "        pass\n",
    "    \n",
    "    #-----------------EXTRAS--------------------------------------------------\n",
    "    try:    \n",
    "        valor['extras_bandeira'] = valor['extras']['bandeira']\n",
    "    except:\n",
    "        pass\n",
    "    try:\n",
    "        valor['extras_id_filial'] = valor['extras']['id_filial']\n",
    "    except:\n",
    "        pass\n",
    "    try:\n",
    "        valor['extras_cidade'] = valor['extras']['cidade']\n",
    "    except:\n",
    "        pass\n",
    "    try:\n",
    "        valor['extras_departamento'] = valor['extras']['departamento']\n",
    "    except:\n",
    "        pass\n",
    "    try:\n",
    "        valor['extras_setor1'] = valor['extras']['setor1']\n",
    "    except:\n",
    "        pass\n",
    "    try:\n",
    "        valor['extras_tipo_cliente'] = valor['extras']['tipo_cliente']\n",
    "    except:\n",
    "        pass\n",
    "    try:\n",
    "        valor['extras_funcionario'] = valor['extras']['funcionario']\n",
    "    except:\n",
    "        pass\n",
    "    try:\n",
    "        valor['extras_horario_transacao'] = valor['extras']['horario_transacao']\n",
    "    except:\n",
    "        pass    \n",
    "\n",
    "    #---------------------------CUSTOMER--------------------------------------\n",
    "    try:\n",
    "        valor['customer_id'] = valor['customer']['id']\n",
    "    except:\n",
    "        pass\n",
    "    try:\n",
    "        valor['customer_name'] = valor['customer']['name']\n",
    "    except:\n",
    "        pass\n",
    "    try:\n",
    "        valor['customer_external_id'] = valor['customer']['external_id']\n",
    "    except:\n",
    "        pass\n",
    "    try:\n",
    "        valor['customer_gender'] = valor['customer']['gender']\n",
    "    except:\n",
    "        pass\n",
    "    try:\n",
    "        valor['customer_email'] = valor['customer']['email']\n",
    "    except:\n",
    "        pass\n",
    "    try:\n",
    "        valor['customer_valid_email'] = valor['customer']['valid_email']\n",
    "    except:\n",
    "        pass\n",
    "    try:\n",
    "        valor['customer_phone'] = valor['customer']['phone']\n",
    "    except:\n",
    "        pass\n",
    "    try:\n",
    "        valor['customer_cpf'] = valor['customer']['cpf']\n",
    "    except:\n",
    "        pass    \n",
    "\n",
    "    #-------------------------RATING-----------------------------------------------\n",
    "    try:\n",
    "        valor['rating_timestamp'] = valor['rating']['timestamp'] \n",
    "    except:\n",
    "        pass\n",
    "    try:\n",
    "        valor['rating_last_update'] = valor['rating']['last_update']  \n",
    "    except:\n",
    "        pass  \n",
    "    try:\n",
    "        valor['rating_value'] = valor['rating']['value']     \n",
    "    except:\n",
    "        pass\n",
    "    try:\n",
    "        valor['rating_source'] = valor['rating']['source']    \n",
    "    except:\n",
    "        pass\n",
    "    try:\n",
    "        valor['rating_comment'] = valor['rating']['comment']    \n",
    "    except:\n",
    "        pass \n",
    "    try:\n",
    "        valor['rating_comment_reply'] = valor['rating']['comment_reply']\n",
    "    except:\n",
    "        pass\n",
    "      \n",
    "    if len(positivos)> 0:\n",
    "        for p in positivos:\n",
    "            valor['pergunta'] = p\n",
    "            valor['resposta'] = 'gostou'\n",
    "            valor_add = valor.copy()\n",
    "            lista_valores.append(valor_add)\n",
    "\n",
    "    if len(negativos)>0:\n",
    "        for n in negativos: \n",
    "            valor['pergunta'] = n\n",
    "            valor['resposta'] = 'não gostou'\n",
    "            valor_add = valor.copy()\n",
    "            lista_valores.append(valor_add)\n",
    "            \n",
    "    if len(positivos) == 0 and len(negativos) == 0:\n",
    "        valor_add = valor.copy()\n",
    "        lista_valores.append(valor_add)"
   ]
  },
  {
   "cell_type": "code",
   "execution_count": 63,
   "metadata": {},
   "outputs": [],
   "source": [
    "df_final = pd.DataFrame(lista_valores)"
   ]
  },
  {
   "cell_type": "code",
   "execution_count": 64,
   "metadata": {},
   "outputs": [],
   "source": [
    "df_final = df_final.drop(columns=['aval_complete', 'store', 'customer', 'employee', 'extras', 'sent_survey', 'sent_block', 'survey_enrichments', 'rating'])\n"
   ]
  },
  {
   "cell_type": "code",
   "execution_count": 65,
   "metadata": {},
   "outputs": [],
   "source": [
    "mapa = {\n",
    " 'id':'id',\n",
    " 'transaction_id': 'transaction_id',\n",
    " 'external_id': 'external_id',\n",
    " 'aval_complete': 'aval_complete',\n",
    " 'type': 'tipo',\n",
    " 'journey': 'jornada',\n",
    " 'survey_type': 'survey_type',\n",
    " 'quarantine': 'bloqueio de quarentena',\n",
    " 'timestamp': 'criado_em',\n",
    " 'amount': 'valor',\n",
    " 'reversed': 'estornado',\n",
    " 'store_id': 'id_loja',\n",
    " 'store_name': 'unidade',\n",
    " 'store_external_id': 'ref_unidade',\n",
    " 'employee_id': 'ref_colaborador',\n",
    " 'employee_name': 'colaborador',\n",
    " 'employee_external_id': 'employee_external_id',\n",
    " 'extras_bandeira': 'bandeira',\n",
    " 'extras_id_filial': 'id_filial',\n",
    " 'extras_cidade': 'cidade',\n",
    " 'extras_departamento': 'departamento',\n",
    " 'extras_setor1': 'setor1',\n",
    " 'extras_tipo_cliente': 'tipo_cliente',\n",
    " 'extras_funcionario': 'funcionario',\n",
    " 'extras_horario_transacao': 'horario_transacao',\n",
    " 'customer_id': 'id_cliente',\n",
    " 'customer_name': 'cliente',\n",
    " 'customer_external_id': 'ref_cliente',\n",
    " 'customer_gender': 'sexo',\n",
    " 'customer_email': 'email',\n",
    " 'customer_valid_email': 'email_valido',\n",
    " 'customer_phone': 'telefone',\n",
    " 'customer_cpf': 'cpf',\n",
    " 'rating_timestamp': 'avaliado_em',\n",
    " 'rating_last_update': 'avaliado_edit',\n",
    " 'rating_value': 'nota',\n",
    " 'rating_source': 'canal de resposta',\n",
    " 'rating_comment': 'comentario',\n",
    " 'rating_comment_reply': 'rating_comment_reply',\n",
    " 'pergunta': 'pergunta',\n",
    " 'resposta': 'resposta'\n",
    "}"
   ]
  },
  {
   "cell_type": "code",
   "execution_count": 66,
   "metadata": {},
   "outputs": [],
   "source": [
    "df = df_final.rename(columns=mapa)"
   ]
  },
  {
   "cell_type": "code",
   "execution_count": 67,
   "metadata": {},
   "outputs": [],
   "source": [
    "df_raw = df.copy()"
   ]
  },
  {
   "cell_type": "code",
   "execution_count": 68,
   "metadata": {},
   "outputs": [],
   "source": [
    "# Função para aplicar a lógica desejada\n",
    "def separar_letra_numero(valor):\n",
    "    if pd.notna(valor) and isinstance(valor, str) and any(c.isalpha() for c in valor):\n",
    "        return pd.Series([x for x in re.split(r'([A-Za-z]+)?-?(\\d+)?', valor) if x])\n",
    "    else:\n",
    "        return pd.Series([valor, valor])"
   ]
  },
  {
   "cell_type": "code",
   "execution_count": 69,
   "metadata": {},
   "outputs": [],
   "source": [
    "# Aplica a função às linhas do DataFrame\n",
    "df_raw[['Coluna1', 'Coluna2']] = df_raw['ref_cliente'].apply(separar_letra_numero)"
   ]
  },
  {
   "cell_type": "code",
   "execution_count": 70,
   "metadata": {},
   "outputs": [],
   "source": [
    "# Criar duas novas colunas\n",
    "df_raw[['Coluna1', 'Coluna2']] = df_raw['ref_cliente'].str.extract(r'([A-Za-z]+)?-?(\\d+)?')"
   ]
  },
  {
   "cell_type": "code",
   "execution_count": 71,
   "metadata": {},
   "outputs": [],
   "source": [
    "# Lista de colunas a serem excluídas\n",
    "colunas_a_excluir = ['external_id', 'tipo', 'survey_type', 'bloqueio de quarentena', 'valor', 'estornado', \n",
    "                     'ref_colaborador', 'colaborador', 'employee_external_id', 'ref_cliente', 'sexo', 'email_valido', \n",
    "                     'cpf', 'rating_comment_reply', 'Coluna1']"
   ]
  },
  {
   "cell_type": "code",
   "execution_count": 72,
   "metadata": {},
   "outputs": [],
   "source": [
    "# Excluir as colunas\n",
    "df_raw = df_raw.drop(columns=colunas_a_excluir, errors='ignore')"
   ]
  },
  {
   "cell_type": "code",
   "execution_count": 73,
   "metadata": {},
   "outputs": [],
   "source": [
    "# Renomear a coluna 'Coluna2' para 'ref_cliente'\n",
    "df_raw = df_raw.rename(columns={'Coluna2': 'ref_cliente'})"
   ]
  },
  {
   "cell_type": "code",
   "execution_count": 74,
   "metadata": {},
   "outputs": [],
   "source": [
    "# Deixando a coluna 'criado_em' no formato de data\n",
    "df_raw['criado_em'] = pd.to_datetime(df_raw['criado_em'])"
   ]
  },
  {
   "cell_type": "code",
   "execution_count": 75,
   "metadata": {},
   "outputs": [],
   "source": [
    "# Criando coluna para armazenar o ano e mês da 'criado_em'\n",
    "df_raw['ano_mes'] =df_raw['criado_em'].dt.to_period('M')"
   ]
  },
  {
   "cell_type": "code",
   "execution_count": 76,
   "metadata": {},
   "outputs": [],
   "source": [
    "# Criando coluna para armazenar o ano da 'criado_em'\n",
    "df_raw['ano'] = df_raw['criado_em'].dt.year"
   ]
  },
  {
   "cell_type": "code",
   "execution_count": 77,
   "metadata": {},
   "outputs": [
    {
     "data": {
      "text/plain": [
       "array([nan, 'Preço justo (bom custo benefício)',\n",
       "       'Variedade de produtos no açougue',\n",
       "       'Atendimento operador de caixa',\n",
       "       'Variedade de produtos no hortifruti',\n",
       "       'Organização da loja (limpeza, organização de produtos nas prateleiras, acesso aos corredores, disponibilidade de carrinhos)',\n",
       "       'Tempo de espera no caixa',\n",
       "       'Preço no caixa igual ao da prateleira', 'Variedade de Produtos',\n",
       "       'Qualidade de produtos no hortifruti',\n",
       "       'Variedade de produtos na padaria',\n",
       "       'Qualidade de produtos no açougue',\n",
       "       'Limpeza e organização dos banheiros', 'Clube Amigão',\n",
       "       'Estrutura da loja (facilidade de acesso, estacionamento, iluminação, som ambiente, climatização)',\n",
       "       'Qualidade de produtos na padaria',\n",
       "       'Facilidade no acompanhamento do pedido',\n",
       "       'Cordialidade do entregador', 'Entrega dentro do prazo?',\n",
       "       'Todos os itens foram entregues?', 'Ofertas',\n",
       "       'Prazo proposto para entrega', 'Preço',\n",
       "       'Cuidado na separação dos produtos',\n",
       "       'Encontrou tudo que procurava?',\n",
       "       'Cuidado e higiene com os produtos',\n",
       "       'Sinalização do preço na prateleira', 'Organização do site',\n",
       "       'Facilidade de navegação no site',\n",
       "       'Facilidade de buscar e localizar os produtos',\n",
       "       'Informações dos produtos (fotos, infos, etc.)',\n",
       "       'Tempo de carregamento das páginas',\n",
       "       'Formas de pagamento disponibilizadas',\n",
       "       'Variedade de produtos / marcas', 'Valor da taxa de entrega',\n",
       "       'Preço atacado', 'Preço varejo', 'Clube Stock',\n",
       "       'Qualidade de produtos frios e embutidos',\n",
       "       'Variedade de produtos frios e embutidos',\n",
       "       'Itens disponíveis em loja / Limite de itens estabelecido',\n",
       "       'Atendimento televendas / Gerência', 'Preços',\n",
       "       'Entrega dos produtos', 'Separação/qualidade dos produtos',\n",
       "       'Nosso Site', 'Tempo para entrega do pedido',\n",
       "       'Tempo de entrega do pedido', 'Formas de Pagamento',\n",
       "       'Qualidade de Produtos', 'Atendimento da loja', 'Promoção',\n",
       "       'Sinalização do preço nas prateleiras', 'Benefícios',\n",
       "       'Estrutura da Loja', 'Variedade de produtos no AÇOUGUE',\n",
       "       'Variedade de produtos no HORTIFRUTI',\n",
       "       'Qualidade de produtos no HORTIFRUTI',\n",
       "       'Qualidade de produtos na PADARIA', 'Tempo de espera no CAIXA',\n",
       "       'Atendimento operador de CAIXA',\n",
       "       'Qualidade de produtos no AÇOUGUE',\n",
       "       'Variedade de produtos na PADARIA', 'Climatização da loja',\n",
       "       'Higiene e limpeza da loja', 'Limpeza e estrutura dos banheiros',\n",
       "       'Estacionamento', 'Preço justo',\n",
       "       'Variedade de produtos e cortes no AÇOUGUE',\n",
       "       'Encontrou tudo o que procurava', 'Clube +',\n",
       "       'Preço no caixa igual o da prateleira?', 'Sinalização das ofertas'],\n",
       "      dtype=object)"
      ]
     },
     "execution_count": 77,
     "metadata": {},
     "output_type": "execute_result"
    }
   ],
   "source": [
    "df_raw.pergunta.unique()"
   ]
  },
  {
   "cell_type": "code",
   "execution_count": 78,
   "metadata": {},
   "outputs": [],
   "source": [
    "df_raw['id_loja'] = df_raw['id_loja'].astype(int)"
   ]
  },
  {
   "cell_type": "code",
   "execution_count": 79,
   "metadata": {},
   "outputs": [
    {
     "data": {
      "text/plain": [
       "array(['nps_amigao_whatsapp', 'nps_ecommerce_whatsapp', 'nps_amigao',\n",
       "       'nps_ecommerce_am', 'gerenciamento_de_categorias',\n",
       "       'nps_ecommerce_site', 'nps_stock_pf', 'nps_stock_pf_whatsapp',\n",
       "       'nps_stock_pj', 'nps_stock_app', 'nps_cc', 'nps_ecommerce_cc',\n",
       "       'nps_sf', 'nps_ecommerce_sf'], dtype=object)"
      ]
     },
     "execution_count": 79,
     "metadata": {},
     "output_type": "execute_result"
    }
   ],
   "source": [
    "df_raw.jornada.unique()"
   ]
  },
  {
   "cell_type": "code",
   "execution_count": 80,
   "metadata": {},
   "outputs": [],
   "source": [
    "df_varejo = df_raw.copy()"
   ]
  },
  {
   "cell_type": "code",
   "execution_count": 81,
   "metadata": {},
   "outputs": [
    {
     "data": {
      "text/html": [
       "<div>\n",
       "<style scoped>\n",
       "    .dataframe tbody tr th:only-of-type {\n",
       "        vertical-align: middle;\n",
       "    }\n",
       "\n",
       "    .dataframe tbody tr th {\n",
       "        vertical-align: top;\n",
       "    }\n",
       "\n",
       "    .dataframe thead th {\n",
       "        text-align: right;\n",
       "    }\n",
       "</style>\n",
       "<table border=\"1\" class=\"dataframe\">\n",
       "  <thead>\n",
       "    <tr style=\"text-align: right;\">\n",
       "      <th></th>\n",
       "      <th>id</th>\n",
       "      <th>transaction_id</th>\n",
       "      <th>jornada</th>\n",
       "      <th>criado_em</th>\n",
       "      <th>id_loja</th>\n",
       "      <th>unidade</th>\n",
       "      <th>ref_unidade</th>\n",
       "      <th>bandeira</th>\n",
       "      <th>id_filial</th>\n",
       "      <th>cidade</th>\n",
       "      <th>departamento</th>\n",
       "      <th>setor1</th>\n",
       "      <th>tipo_cliente</th>\n",
       "      <th>funcionario</th>\n",
       "      <th>horario_transacao</th>\n",
       "      <th>id_cliente</th>\n",
       "      <th>cliente</th>\n",
       "      <th>email</th>\n",
       "      <th>telefone</th>\n",
       "      <th>avaliado_em</th>\n",
       "      <th>avaliado_edit</th>\n",
       "      <th>nota</th>\n",
       "      <th>canal de resposta</th>\n",
       "      <th>comentario</th>\n",
       "      <th>pergunta</th>\n",
       "      <th>resposta</th>\n",
       "      <th>ref_cliente</th>\n",
       "      <th>ano_mes</th>\n",
       "      <th>ano</th>\n",
       "    </tr>\n",
       "  </thead>\n",
       "  <tbody>\n",
       "    <tr>\n",
       "      <th>0</th>\n",
       "      <td>77483831</td>\n",
       "      <td>CSD-7710262024-08-nps_amigao_wha</td>\n",
       "      <td>nps_amigao_whatsapp</td>\n",
       "      <td>2024-08-31</td>\n",
       "      <td>10688</td>\n",
       "      <td>AMIGAO - GUAIAPO</td>\n",
       "      <td>AM_GUAIAPO</td>\n",
       "      <td>AM</td>\n",
       "      <td>38</td>\n",
       "      <td>MARINGA</td>\n",
       "      <td>FLV</td>\n",
       "      <td>AV GUAIAPO N.1881,BOM JARDIM,MARINGA,PR</td>\n",
       "      <td>PF</td>\n",
       "      <td>N</td>\n",
       "      <td>18:27:00</td>\n",
       "      <td>3503315</td>\n",
       "      <td>DARCI CLEONICE SALOMAO</td>\n",
       "      <td></td>\n",
       "      <td>44999541510</td>\n",
       "      <td>2024-09-02 11:46:52</td>\n",
       "      <td>2024-09-02 11:46:52</td>\n",
       "      <td>10</td>\n",
       "      <td>Whatsapp</td>\n",
       "      <td>False</td>\n",
       "      <td>NaN</td>\n",
       "      <td>NaN</td>\n",
       "      <td>771026</td>\n",
       "      <td>2024-08</td>\n",
       "      <td>2024</td>\n",
       "    </tr>\n",
       "    <tr>\n",
       "      <th>1</th>\n",
       "      <td>77483918</td>\n",
       "      <td>CSD-6312282024-08-nps_amigao_wha</td>\n",
       "      <td>nps_amigao_whatsapp</td>\n",
       "      <td>2024-08-31</td>\n",
       "      <td>10686</td>\n",
       "      <td>AMIGAO - CORNELIO II</td>\n",
       "      <td>AM_CORNELIOII</td>\n",
       "      <td>AM</td>\n",
       "      <td>30</td>\n",
       "      <td>CORNÉLIO PROCÓPIO</td>\n",
       "      <td>AÇOUGUE</td>\n",
       "      <td>RUA BENJAMIN CONSTANT N.669,CENTRO,CORNÉLIO PR...</td>\n",
       "      <td>PF</td>\n",
       "      <td>N</td>\n",
       "      <td>19:58:00</td>\n",
       "      <td>3666969</td>\n",
       "      <td>ALESSANDRO HENRIQUE TOLEDO</td>\n",
       "      <td>halessandro005@gmail.com</td>\n",
       "      <td>43996126400</td>\n",
       "      <td>2024-09-02 11:00:25</td>\n",
       "      <td>2024-09-02 11:00:25</td>\n",
       "      <td>10</td>\n",
       "      <td>Whatsapp</td>\n",
       "      <td>False</td>\n",
       "      <td>Preço justo (bom custo benefício)</td>\n",
       "      <td>gostou</td>\n",
       "      <td>631228</td>\n",
       "      <td>2024-08</td>\n",
       "      <td>2024</td>\n",
       "    </tr>\n",
       "    <tr>\n",
       "      <th>2</th>\n",
       "      <td>77483918</td>\n",
       "      <td>CSD-6312282024-08-nps_amigao_wha</td>\n",
       "      <td>nps_amigao_whatsapp</td>\n",
       "      <td>2024-08-31</td>\n",
       "      <td>10686</td>\n",
       "      <td>AMIGAO - CORNELIO II</td>\n",
       "      <td>AM_CORNELIOII</td>\n",
       "      <td>AM</td>\n",
       "      <td>30</td>\n",
       "      <td>CORNÉLIO PROCÓPIO</td>\n",
       "      <td>AÇOUGUE</td>\n",
       "      <td>RUA BENJAMIN CONSTANT N.669,CENTRO,CORNÉLIO PR...</td>\n",
       "      <td>PF</td>\n",
       "      <td>N</td>\n",
       "      <td>19:58:00</td>\n",
       "      <td>3666969</td>\n",
       "      <td>ALESSANDRO HENRIQUE TOLEDO</td>\n",
       "      <td>halessandro005@gmail.com</td>\n",
       "      <td>43996126400</td>\n",
       "      <td>2024-09-02 11:00:25</td>\n",
       "      <td>2024-09-02 11:00:25</td>\n",
       "      <td>10</td>\n",
       "      <td>Whatsapp</td>\n",
       "      <td>False</td>\n",
       "      <td>Variedade de produtos no açougue</td>\n",
       "      <td>gostou</td>\n",
       "      <td>631228</td>\n",
       "      <td>2024-08</td>\n",
       "      <td>2024</td>\n",
       "    </tr>\n",
       "    <tr>\n",
       "      <th>3</th>\n",
       "      <td>77483918</td>\n",
       "      <td>CSD-6312282024-08-nps_amigao_wha</td>\n",
       "      <td>nps_amigao_whatsapp</td>\n",
       "      <td>2024-08-31</td>\n",
       "      <td>10686</td>\n",
       "      <td>AMIGAO - CORNELIO II</td>\n",
       "      <td>AM_CORNELIOII</td>\n",
       "      <td>AM</td>\n",
       "      <td>30</td>\n",
       "      <td>CORNÉLIO PROCÓPIO</td>\n",
       "      <td>AÇOUGUE</td>\n",
       "      <td>RUA BENJAMIN CONSTANT N.669,CENTRO,CORNÉLIO PR...</td>\n",
       "      <td>PF</td>\n",
       "      <td>N</td>\n",
       "      <td>19:58:00</td>\n",
       "      <td>3666969</td>\n",
       "      <td>ALESSANDRO HENRIQUE TOLEDO</td>\n",
       "      <td>halessandro005@gmail.com</td>\n",
       "      <td>43996126400</td>\n",
       "      <td>2024-09-02 11:00:25</td>\n",
       "      <td>2024-09-02 11:00:25</td>\n",
       "      <td>10</td>\n",
       "      <td>Whatsapp</td>\n",
       "      <td>False</td>\n",
       "      <td>Atendimento operador de caixa</td>\n",
       "      <td>gostou</td>\n",
       "      <td>631228</td>\n",
       "      <td>2024-08</td>\n",
       "      <td>2024</td>\n",
       "    </tr>\n",
       "    <tr>\n",
       "      <th>4</th>\n",
       "      <td>77483918</td>\n",
       "      <td>CSD-6312282024-08-nps_amigao_wha</td>\n",
       "      <td>nps_amigao_whatsapp</td>\n",
       "      <td>2024-08-31</td>\n",
       "      <td>10686</td>\n",
       "      <td>AMIGAO - CORNELIO II</td>\n",
       "      <td>AM_CORNELIOII</td>\n",
       "      <td>AM</td>\n",
       "      <td>30</td>\n",
       "      <td>CORNÉLIO PROCÓPIO</td>\n",
       "      <td>AÇOUGUE</td>\n",
       "      <td>RUA BENJAMIN CONSTANT N.669,CENTRO,CORNÉLIO PR...</td>\n",
       "      <td>PF</td>\n",
       "      <td>N</td>\n",
       "      <td>19:58:00</td>\n",
       "      <td>3666969</td>\n",
       "      <td>ALESSANDRO HENRIQUE TOLEDO</td>\n",
       "      <td>halessandro005@gmail.com</td>\n",
       "      <td>43996126400</td>\n",
       "      <td>2024-09-02 11:00:25</td>\n",
       "      <td>2024-09-02 11:00:25</td>\n",
       "      <td>10</td>\n",
       "      <td>Whatsapp</td>\n",
       "      <td>False</td>\n",
       "      <td>Variedade de produtos no hortifruti</td>\n",
       "      <td>gostou</td>\n",
       "      <td>631228</td>\n",
       "      <td>2024-08</td>\n",
       "      <td>2024</td>\n",
       "    </tr>\n",
       "    <tr>\n",
       "      <th>...</th>\n",
       "      <td>...</td>\n",
       "      <td>...</td>\n",
       "      <td>...</td>\n",
       "      <td>...</td>\n",
       "      <td>...</td>\n",
       "      <td>...</td>\n",
       "      <td>...</td>\n",
       "      <td>...</td>\n",
       "      <td>...</td>\n",
       "      <td>...</td>\n",
       "      <td>...</td>\n",
       "      <td>...</td>\n",
       "      <td>...</td>\n",
       "      <td>...</td>\n",
       "      <td>...</td>\n",
       "      <td>...</td>\n",
       "      <td>...</td>\n",
       "      <td>...</td>\n",
       "      <td>...</td>\n",
       "      <td>...</td>\n",
       "      <td>...</td>\n",
       "      <td>...</td>\n",
       "      <td>...</td>\n",
       "      <td>...</td>\n",
       "      <td>...</td>\n",
       "      <td>...</td>\n",
       "      <td>...</td>\n",
       "      <td>...</td>\n",
       "      <td>...</td>\n",
       "    </tr>\n",
       "    <tr>\n",
       "      <th>932944</th>\n",
       "      <td>18408983</td>\n",
       "      <td>039_2022-08-01_167560_010</td>\n",
       "      <td>nps_amigao</td>\n",
       "      <td>2022-08-01</td>\n",
       "      <td>10670</td>\n",
       "      <td>AMIGAO - OURINHOS</td>\n",
       "      <td>AM_OURINHOS</td>\n",
       "      <td>AM</td>\n",
       "      <td>39</td>\n",
       "      <td>OURINHOS</td>\n",
       "      <td>FLV</td>\n",
       "      <td>RUA CARDOSO RIBEIRO N.970,CENTRO,OURINHOS,SP</td>\n",
       "      <td>NaN</td>\n",
       "      <td>NaN</td>\n",
       "      <td>NaN</td>\n",
       "      <td>322783</td>\n",
       "      <td>ALINE DE ALMEIDA DOMINGOS SILVA</td>\n",
       "      <td>almeida_alinedomingos@hotmail.com</td>\n",
       "      <td>14998736214</td>\n",
       "      <td>2022-08-04 17:38:33</td>\n",
       "      <td>2022-08-04 17:38:33</td>\n",
       "      <td>7</td>\n",
       "      <td>E-Mail</td>\n",
       "      <td>False</td>\n",
       "      <td>Preço</td>\n",
       "      <td>gostou</td>\n",
       "      <td>8612320517</td>\n",
       "      <td>2022-08</td>\n",
       "      <td>2022</td>\n",
       "    </tr>\n",
       "    <tr>\n",
       "      <th>932945</th>\n",
       "      <td>18416687</td>\n",
       "      <td>032_2022-08-01_165137_003</td>\n",
       "      <td>nps_cc</td>\n",
       "      <td>2022-08-01</td>\n",
       "      <td>10696</td>\n",
       "      <td>AMIGAO - NILDO RIBEIRO</td>\n",
       "      <td>AM_NILDORIBEIRO</td>\n",
       "      <td>CC</td>\n",
       "      <td>32</td>\n",
       "      <td>MARINGA</td>\n",
       "      <td>GERAL</td>\n",
       "      <td>AV ARQUITETO NILDO RIBEIRO ROCHA N.343,JARDIM ...</td>\n",
       "      <td>NaN</td>\n",
       "      <td>NaN</td>\n",
       "      <td>NaN</td>\n",
       "      <td>244363</td>\n",
       "      <td>CARLOS MOURÃO</td>\n",
       "      <td>moharald@terra.com.br</td>\n",
       "      <td>44998851803</td>\n",
       "      <td>2022-08-03 21:14:05</td>\n",
       "      <td>2022-08-03 21:14:05</td>\n",
       "      <td>7</td>\n",
       "      <td>E-Mail</td>\n",
       "      <td>Não subir os preço no sabados e Domingos. Ai v...</td>\n",
       "      <td>Qualidade de produtos no AÇOUGUE</td>\n",
       "      <td>gostou</td>\n",
       "      <td>32525</td>\n",
       "      <td>2022-08</td>\n",
       "      <td>2022</td>\n",
       "    </tr>\n",
       "    <tr>\n",
       "      <th>932946</th>\n",
       "      <td>18416687</td>\n",
       "      <td>032_2022-08-01_165137_003</td>\n",
       "      <td>nps_cc</td>\n",
       "      <td>2022-08-01</td>\n",
       "      <td>10696</td>\n",
       "      <td>AMIGAO - NILDO RIBEIRO</td>\n",
       "      <td>AM_NILDORIBEIRO</td>\n",
       "      <td>CC</td>\n",
       "      <td>32</td>\n",
       "      <td>MARINGA</td>\n",
       "      <td>GERAL</td>\n",
       "      <td>AV ARQUITETO NILDO RIBEIRO ROCHA N.343,JARDIM ...</td>\n",
       "      <td>NaN</td>\n",
       "      <td>NaN</td>\n",
       "      <td>NaN</td>\n",
       "      <td>244363</td>\n",
       "      <td>CARLOS MOURÃO</td>\n",
       "      <td>moharald@terra.com.br</td>\n",
       "      <td>44998851803</td>\n",
       "      <td>2022-08-03 21:14:05</td>\n",
       "      <td>2022-08-03 21:14:05</td>\n",
       "      <td>7</td>\n",
       "      <td>E-Mail</td>\n",
       "      <td>Não subir os preço no sabados e Domingos. Ai v...</td>\n",
       "      <td>Qualidade de produtos na PADARIA</td>\n",
       "      <td>gostou</td>\n",
       "      <td>32525</td>\n",
       "      <td>2022-08</td>\n",
       "      <td>2022</td>\n",
       "    </tr>\n",
       "    <tr>\n",
       "      <th>932947</th>\n",
       "      <td>18416687</td>\n",
       "      <td>032_2022-08-01_165137_003</td>\n",
       "      <td>nps_cc</td>\n",
       "      <td>2022-08-01</td>\n",
       "      <td>10696</td>\n",
       "      <td>AMIGAO - NILDO RIBEIRO</td>\n",
       "      <td>AM_NILDORIBEIRO</td>\n",
       "      <td>CC</td>\n",
       "      <td>32</td>\n",
       "      <td>MARINGA</td>\n",
       "      <td>GERAL</td>\n",
       "      <td>AV ARQUITETO NILDO RIBEIRO ROCHA N.343,JARDIM ...</td>\n",
       "      <td>NaN</td>\n",
       "      <td>NaN</td>\n",
       "      <td>NaN</td>\n",
       "      <td>244363</td>\n",
       "      <td>CARLOS MOURÃO</td>\n",
       "      <td>moharald@terra.com.br</td>\n",
       "      <td>44998851803</td>\n",
       "      <td>2022-08-03 21:14:05</td>\n",
       "      <td>2022-08-03 21:14:05</td>\n",
       "      <td>7</td>\n",
       "      <td>E-Mail</td>\n",
       "      <td>Não subir os preço no sabados e Domingos. Ai v...</td>\n",
       "      <td>Estrutura da Loja</td>\n",
       "      <td>gostou</td>\n",
       "      <td>32525</td>\n",
       "      <td>2022-08</td>\n",
       "      <td>2022</td>\n",
       "    </tr>\n",
       "    <tr>\n",
       "      <th>932948</th>\n",
       "      <td>18416687</td>\n",
       "      <td>032_2022-08-01_165137_003</td>\n",
       "      <td>nps_cc</td>\n",
       "      <td>2022-08-01</td>\n",
       "      <td>10696</td>\n",
       "      <td>AMIGAO - NILDO RIBEIRO</td>\n",
       "      <td>AM_NILDORIBEIRO</td>\n",
       "      <td>CC</td>\n",
       "      <td>32</td>\n",
       "      <td>MARINGA</td>\n",
       "      <td>GERAL</td>\n",
       "      <td>AV ARQUITETO NILDO RIBEIRO ROCHA N.343,JARDIM ...</td>\n",
       "      <td>NaN</td>\n",
       "      <td>NaN</td>\n",
       "      <td>NaN</td>\n",
       "      <td>244363</td>\n",
       "      <td>CARLOS MOURÃO</td>\n",
       "      <td>moharald@terra.com.br</td>\n",
       "      <td>44998851803</td>\n",
       "      <td>2022-08-03 21:14:05</td>\n",
       "      <td>2022-08-03 21:14:05</td>\n",
       "      <td>7</td>\n",
       "      <td>E-Mail</td>\n",
       "      <td>Não subir os preço no sabados e Domingos. Ai v...</td>\n",
       "      <td>Qualidade de produtos no HORTIFRUTI</td>\n",
       "      <td>não gostou</td>\n",
       "      <td>32525</td>\n",
       "      <td>2022-08</td>\n",
       "      <td>2022</td>\n",
       "    </tr>\n",
       "  </tbody>\n",
       "</table>\n",
       "<p>932949 rows × 29 columns</p>\n",
       "</div>"
      ],
      "text/plain": [
       "              id                    transaction_id              jornada  \\\n",
       "0       77483831  CSD-7710262024-08-nps_amigao_wha  nps_amigao_whatsapp   \n",
       "1       77483918  CSD-6312282024-08-nps_amigao_wha  nps_amigao_whatsapp   \n",
       "2       77483918  CSD-6312282024-08-nps_amigao_wha  nps_amigao_whatsapp   \n",
       "3       77483918  CSD-6312282024-08-nps_amigao_wha  nps_amigao_whatsapp   \n",
       "4       77483918  CSD-6312282024-08-nps_amigao_wha  nps_amigao_whatsapp   \n",
       "...          ...                               ...                  ...   \n",
       "932944  18408983         039_2022-08-01_167560_010           nps_amigao   \n",
       "932945  18416687         032_2022-08-01_165137_003               nps_cc   \n",
       "932946  18416687         032_2022-08-01_165137_003               nps_cc   \n",
       "932947  18416687         032_2022-08-01_165137_003               nps_cc   \n",
       "932948  18416687         032_2022-08-01_165137_003               nps_cc   \n",
       "\n",
       "        criado_em  id_loja                 unidade      ref_unidade bandeira  \\\n",
       "0      2024-08-31    10688        AMIGAO - GUAIAPO       AM_GUAIAPO       AM   \n",
       "1      2024-08-31    10686    AMIGAO - CORNELIO II    AM_CORNELIOII       AM   \n",
       "2      2024-08-31    10686    AMIGAO - CORNELIO II    AM_CORNELIOII       AM   \n",
       "3      2024-08-31    10686    AMIGAO - CORNELIO II    AM_CORNELIOII       AM   \n",
       "4      2024-08-31    10686    AMIGAO - CORNELIO II    AM_CORNELIOII       AM   \n",
       "...           ...      ...                     ...              ...      ...   \n",
       "932944 2022-08-01    10670       AMIGAO - OURINHOS      AM_OURINHOS       AM   \n",
       "932945 2022-08-01    10696  AMIGAO - NILDO RIBEIRO  AM_NILDORIBEIRO       CC   \n",
       "932946 2022-08-01    10696  AMIGAO - NILDO RIBEIRO  AM_NILDORIBEIRO       CC   \n",
       "932947 2022-08-01    10696  AMIGAO - NILDO RIBEIRO  AM_NILDORIBEIRO       CC   \n",
       "932948 2022-08-01    10696  AMIGAO - NILDO RIBEIRO  AM_NILDORIBEIRO       CC   \n",
       "\n",
       "       id_filial             cidade departamento  \\\n",
       "0             38            MARINGA          FLV   \n",
       "1             30  CORNÉLIO PROCÓPIO      AÇOUGUE   \n",
       "2             30  CORNÉLIO PROCÓPIO      AÇOUGUE   \n",
       "3             30  CORNÉLIO PROCÓPIO      AÇOUGUE   \n",
       "4             30  CORNÉLIO PROCÓPIO      AÇOUGUE   \n",
       "...          ...                ...          ...   \n",
       "932944        39           OURINHOS          FLV   \n",
       "932945        32            MARINGA        GERAL   \n",
       "932946        32            MARINGA        GERAL   \n",
       "932947        32            MARINGA        GERAL   \n",
       "932948        32            MARINGA        GERAL   \n",
       "\n",
       "                                                   setor1 tipo_cliente  \\\n",
       "0                 AV GUAIAPO N.1881,BOM JARDIM,MARINGA,PR           PF   \n",
       "1       RUA BENJAMIN CONSTANT N.669,CENTRO,CORNÉLIO PR...           PF   \n",
       "2       RUA BENJAMIN CONSTANT N.669,CENTRO,CORNÉLIO PR...           PF   \n",
       "3       RUA BENJAMIN CONSTANT N.669,CENTRO,CORNÉLIO PR...           PF   \n",
       "4       RUA BENJAMIN CONSTANT N.669,CENTRO,CORNÉLIO PR...           PF   \n",
       "...                                                   ...          ...   \n",
       "932944       RUA CARDOSO RIBEIRO N.970,CENTRO,OURINHOS,SP          NaN   \n",
       "932945  AV ARQUITETO NILDO RIBEIRO ROCHA N.343,JARDIM ...          NaN   \n",
       "932946  AV ARQUITETO NILDO RIBEIRO ROCHA N.343,JARDIM ...          NaN   \n",
       "932947  AV ARQUITETO NILDO RIBEIRO ROCHA N.343,JARDIM ...          NaN   \n",
       "932948  AV ARQUITETO NILDO RIBEIRO ROCHA N.343,JARDIM ...          NaN   \n",
       "\n",
       "       funcionario horario_transacao id_cliente  \\\n",
       "0                N          18:27:00    3503315   \n",
       "1                N          19:58:00    3666969   \n",
       "2                N          19:58:00    3666969   \n",
       "3                N          19:58:00    3666969   \n",
       "4                N          19:58:00    3666969   \n",
       "...            ...               ...        ...   \n",
       "932944         NaN               NaN     322783   \n",
       "932945         NaN               NaN     244363   \n",
       "932946         NaN               NaN     244363   \n",
       "932947         NaN               NaN     244363   \n",
       "932948         NaN               NaN     244363   \n",
       "\n",
       "                                cliente                              email  \\\n",
       "0                DARCI CLEONICE SALOMAO                                      \n",
       "1            ALESSANDRO HENRIQUE TOLEDO           halessandro005@gmail.com   \n",
       "2            ALESSANDRO HENRIQUE TOLEDO           halessandro005@gmail.com   \n",
       "3            ALESSANDRO HENRIQUE TOLEDO           halessandro005@gmail.com   \n",
       "4            ALESSANDRO HENRIQUE TOLEDO           halessandro005@gmail.com   \n",
       "...                                 ...                                ...   \n",
       "932944  ALINE DE ALMEIDA DOMINGOS SILVA  almeida_alinedomingos@hotmail.com   \n",
       "932945                    CARLOS MOURÃO              moharald@terra.com.br   \n",
       "932946                    CARLOS MOURÃO              moharald@terra.com.br   \n",
       "932947                    CARLOS MOURÃO              moharald@terra.com.br   \n",
       "932948                    CARLOS MOURÃO              moharald@terra.com.br   \n",
       "\n",
       "           telefone          avaliado_em        avaliado_edit nota  \\\n",
       "0       44999541510  2024-09-02 11:46:52  2024-09-02 11:46:52   10   \n",
       "1       43996126400  2024-09-02 11:00:25  2024-09-02 11:00:25   10   \n",
       "2       43996126400  2024-09-02 11:00:25  2024-09-02 11:00:25   10   \n",
       "3       43996126400  2024-09-02 11:00:25  2024-09-02 11:00:25   10   \n",
       "4       43996126400  2024-09-02 11:00:25  2024-09-02 11:00:25   10   \n",
       "...             ...                  ...                  ...  ...   \n",
       "932944  14998736214  2022-08-04 17:38:33  2022-08-04 17:38:33    7   \n",
       "932945  44998851803  2022-08-03 21:14:05  2022-08-03 21:14:05    7   \n",
       "932946  44998851803  2022-08-03 21:14:05  2022-08-03 21:14:05    7   \n",
       "932947  44998851803  2022-08-03 21:14:05  2022-08-03 21:14:05    7   \n",
       "932948  44998851803  2022-08-03 21:14:05  2022-08-03 21:14:05    7   \n",
       "\n",
       "       canal de resposta                                         comentario  \\\n",
       "0               Whatsapp                                              False   \n",
       "1               Whatsapp                                              False   \n",
       "2               Whatsapp                                              False   \n",
       "3               Whatsapp                                              False   \n",
       "4               Whatsapp                                              False   \n",
       "...                  ...                                                ...   \n",
       "932944            E-Mail                                              False   \n",
       "932945            E-Mail  Não subir os preço no sabados e Domingos. Ai v...   \n",
       "932946            E-Mail  Não subir os preço no sabados e Domingos. Ai v...   \n",
       "932947            E-Mail  Não subir os preço no sabados e Domingos. Ai v...   \n",
       "932948            E-Mail  Não subir os preço no sabados e Domingos. Ai v...   \n",
       "\n",
       "                                   pergunta    resposta ref_cliente  ano_mes  \\\n",
       "0                                       NaN         NaN      771026  2024-08   \n",
       "1         Preço justo (bom custo benefício)      gostou      631228  2024-08   \n",
       "2          Variedade de produtos no açougue      gostou      631228  2024-08   \n",
       "3             Atendimento operador de caixa      gostou      631228  2024-08   \n",
       "4       Variedade de produtos no hortifruti      gostou      631228  2024-08   \n",
       "...                                     ...         ...         ...      ...   \n",
       "932944                                Preço      gostou  8612320517  2022-08   \n",
       "932945     Qualidade de produtos no AÇOUGUE      gostou       32525  2022-08   \n",
       "932946     Qualidade de produtos na PADARIA      gostou       32525  2022-08   \n",
       "932947                    Estrutura da Loja      gostou       32525  2022-08   \n",
       "932948  Qualidade de produtos no HORTIFRUTI  não gostou       32525  2022-08   \n",
       "\n",
       "         ano  \n",
       "0       2024  \n",
       "1       2024  \n",
       "2       2024  \n",
       "3       2024  \n",
       "4       2024  \n",
       "...      ...  \n",
       "932944  2022  \n",
       "932945  2022  \n",
       "932946  2022  \n",
       "932947  2022  \n",
       "932948  2022  \n",
       "\n",
       "[932949 rows x 29 columns]"
      ]
     },
     "execution_count": 81,
     "metadata": {},
     "output_type": "execute_result"
    }
   ],
   "source": [
    "df_varejo"
   ]
  },
  {
   "cell_type": "code",
   "execution_count": 82,
   "metadata": {},
   "outputs": [],
   "source": [
    "# Filtro na coluna de pergunta apenas com \"Preço\" e só varejo\n",
    "df_varejo = df_varejo[\n",
    "    (df_varejo['jornada'] =='nps_amigao')|\n",
    "    (df_varejo['jornada'] =='nps_cc')|\n",
    "    (df_varejo['jornada'] =='nps_sf')|\n",
    "    (df_varejo['jornada'] =='nps_amigao_whatsapp')|\n",
    "    (df_varejo['jornada'] =='gerenciamento_de_categorias')\n",
    "    ]"
   ]
  },
  {
   "cell_type": "code",
   "execution_count": 83,
   "metadata": {},
   "outputs": [
    {
     "name": "stderr",
     "output_type": "stream",
     "text": [
      "C:\\Users\\Bruno.Freitas\\AppData\\Local\\Temp\\ipykernel_15528\\3680715788.py:1: SettingWithCopyWarning: \n",
      "A value is trying to be set on a copy of a slice from a DataFrame.\n",
      "Try using .loc[row_indexer,col_indexer] = value instead\n",
      "\n",
      "See the caveats in the documentation: https://pandas.pydata.org/pandas-docs/stable/user_guide/indexing.html#returning-a-view-versus-a-copy\n",
      "  df_varejo['Regionais'] = np.select(\n"
     ]
    }
   ],
   "source": [
    "df_varejo['Regionais'] = np.select(\n",
    "    [\n",
    "        df_varejo['id_loja'].isin([10682, 10683, 10684, 10691, 10692, 10696, 10703, 10706, 10709]),  # REGIONAL 1\n",
    "        df_varejo['id_loja'].isin([10677, 10688, 10690, 10693, 10694, 10695, 10698, 10699, 10708, 10711]),  # REGIONAL 2\n",
    "        df_varejo['id_loja'].isin([10687, 10697, 10700, 10702, 10710, 10712, 10713, 10715, 21493, 21473]),  # REGIONAL 3\n",
    "        df_varejo['id_loja'].isin([10678, 10679, 10680, 10681, 10685, 10686, 10689, 10704, 10707, 10714, 10724, 10660]),  # REGIONAL 4\n",
    "        df_varejo['id_loja'].isin([10660, 10667, 10671, 10674, 10675, 10716, 21475, 21498, 21474]),  # REGIONAL 5\n",
    "        df_varejo['id_loja'].isin([10662, 10663, 10672, 10676, 10717, 10718, 10719]),  # REGIONAL 6\n",
    "        df_varejo['id_loja'].isin([10661, 10664, 10665, 10666, 10668, 10669, 10670, 10673, 21476]),  # REGIONAL 7\n",
    "        df_varejo['id_loja'].isin([21466, 21467, 21468, 21469, 21470, 21471, 21472, 21489])  # REGIONAL 8\n",
    "    ],\n",
    "    [\n",
    "        \"REGIONAL 1 - MARINGÁ 1\",\n",
    "        \"REGIONAL 2 - MARINGÁ 2\",\n",
    "        \"REGIONAL 3 - UMUARAMA\",\n",
    "        \"REGIONAL 4 - LONDRINA\",\n",
    "        \"REGIONAL 5 - ARAÇATUBA\",\n",
    "        \"REGIONAL 6 - SJRP\",\n",
    "        \"REGIONAL 7 - LINS\",\n",
    "        \"REGIONAL 8 - STOCK\"\n",
    "    ],\n",
    "    default=\"SEM GO\"\n",
    ")"
   ]
  },
  {
   "cell_type": "code",
   "execution_count": 84,
   "metadata": {},
   "outputs": [
    {
     "data": {
      "text/plain": [
       "array([nan, 'Preço justo (bom custo benefício)',\n",
       "       'Variedade de produtos no açougue',\n",
       "       'Atendimento operador de caixa',\n",
       "       'Variedade de produtos no hortifruti',\n",
       "       'Organização da loja (limpeza, organização de produtos nas prateleiras, acesso aos corredores, disponibilidade de carrinhos)',\n",
       "       'Tempo de espera no caixa',\n",
       "       'Preço no caixa igual ao da prateleira', 'Variedade de Produtos',\n",
       "       'Qualidade de produtos no hortifruti',\n",
       "       'Variedade de produtos na padaria',\n",
       "       'Qualidade de produtos no açougue',\n",
       "       'Limpeza e organização dos banheiros', 'Clube Amigão',\n",
       "       'Estrutura da loja (facilidade de acesso, estacionamento, iluminação, som ambiente, climatização)',\n",
       "       'Qualidade de produtos na padaria',\n",
       "       'Encontrou tudo que procurava?',\n",
       "       'Cuidado e higiene com os produtos', 'Ofertas',\n",
       "       'Sinalização do preço na prateleira',\n",
       "       'Qualidade de produtos na PADARIA',\n",
       "       'Qualidade de produtos no AÇOUGUE',\n",
       "       'Qualidade de produtos no HORTIFRUTI', 'Estrutura da Loja',\n",
       "       'Preço', 'Benefícios', 'Atendimento operador de CAIXA',\n",
       "       'Tempo de espera no CAIXA', 'Preço justo',\n",
       "       'Variedade de produtos e cortes no AÇOUGUE',\n",
       "       'Variedade de produtos no HORTIFRUTI',\n",
       "       'Variedade de produtos na PADARIA', 'Qualidade de Produtos',\n",
       "       'Atendimento da loja', 'Estacionamento', 'Climatização da loja',\n",
       "       'Higiene e limpeza da loja', 'Limpeza e estrutura dos banheiros',\n",
       "       'Encontrou tudo o que procurava', 'Formas de Pagamento', 'Clube +',\n",
       "       'Sinalização do preço nas prateleiras', 'Promoção',\n",
       "       'Preço no caixa igual o da prateleira?', 'Sinalização das ofertas'],\n",
       "      dtype=object)"
      ]
     },
     "execution_count": 84,
     "metadata": {},
     "output_type": "execute_result"
    }
   ],
   "source": [
    "df_varejo.pergunta.unique()"
   ]
  },
  {
   "cell_type": "code",
   "execution_count": null,
   "metadata": {},
   "outputs": [],
   "source": [
    "# Filtro na coluna de pergunta com: \n",
    "\n",
    "# Sinalização do preço na prateleira, \n",
    "# Sinalização do preço nas prateleiras, \n",
    "# Sinalização das ofertas, \n",
    "# Preço no caixa igual o da prateleira?\n",
    "# Preço no caixa igual ao da prateleira"
   ]
  },
  {
   "cell_type": "code",
   "execution_count": 87,
   "metadata": {},
   "outputs": [],
   "source": [
    "# Filtro na coluna de pergunta apenas com \"Ofertas\" e só varejo\n",
    "df_oferta = df_varejo[\n",
    "    ((df_varejo['pergunta'] =='Ofertas') |\n",
    "    (df_varejo['pergunta'] =='Promoção'))\n",
    "    ]"
   ]
  },
  {
   "cell_type": "code",
   "execution_count": 88,
   "metadata": {},
   "outputs": [
    {
     "data": {
      "text/plain": [
       "ano\n",
       "2022     1743\n",
       "2023     2975\n",
       "2024    12813\n",
       "Name: id, dtype: int64"
      ]
     },
     "execution_count": 88,
     "metadata": {},
     "output_type": "execute_result"
    }
   ],
   "source": [
    "# 1º) QUantidade distinta de 'id' que deram \"gostou\"\n",
    "likes_oferta_rede = df_oferta[df_oferta['resposta'] == 'gostou'].groupby('ano')['id'].nunique()\n",
    "likes_oferta_rede"
   ]
  },
  {
   "cell_type": "code",
   "execution_count": 89,
   "metadata": {},
   "outputs": [
    {
     "data": {
      "text/plain": [
       "ano\n",
       "2022     362\n",
       "2023     634\n",
       "2024    3191\n",
       "Name: id, dtype: int64"
      ]
     },
     "execution_count": 89,
     "metadata": {},
     "output_type": "execute_result"
    }
   ],
   "source": [
    "# 2º) QUantidade distinta de 'id' que deram \"não gostou\"\n",
    "dislikes_oferta_rede = df_oferta[df_oferta['resposta'] == 'não gostou'].groupby('ano')['id'].nunique()\n",
    "dislikes_oferta_rede"
   ]
  },
  {
   "cell_type": "code",
   "execution_count": 90,
   "metadata": {},
   "outputs": [
    {
     "data": {
      "text/plain": [
       "ano   unidade             \n",
       "2022  AMIGAO - ALVORADA        13\n",
       "      AMIGAO - APUCARANA       30\n",
       "      AMIGAO - ARACATUBA       16\n",
       "      AMIGAO - ARAPONGAS       20\n",
       "      AMIGAO - ASSIS           52\n",
       "                             ... \n",
       "2024  AMIGAO - TUIUTI         130\n",
       "      AMIGAO - TUPA           310\n",
       "      AMIGAO - UMUARAMA I     224\n",
       "      AMIGAO - UMUARAMA II    270\n",
       "      AMIGAO - ZONA NORTE     183\n",
       "Name: id, Length: 194, dtype: int64"
      ]
     },
     "execution_count": 90,
     "metadata": {},
     "output_type": "execute_result"
    }
   ],
   "source": [
    "# 3º) QUantidade distinta de 'id' que deram \"gostou\" por loja\n",
    "likes_oferta_loja = df_oferta[df_oferta['resposta'] == 'gostou'].groupby(['ano','unidade'])['id'].nunique()\n",
    "likes_oferta_loja"
   ]
  },
  {
   "cell_type": "code",
   "execution_count": 91,
   "metadata": {},
   "outputs": [
    {
     "data": {
      "text/plain": [
       "ano   unidade             \n",
       "2022  AMIGAO - ALVORADA        6\n",
       "      AMIGAO - APUCARANA       6\n",
       "      AMIGAO - ARACATUBA       6\n",
       "      AMIGAO - ARAPONGAS       4\n",
       "      AMIGAO - ASSIS          10\n",
       "                              ..\n",
       "2024  AMIGAO - TUIUTI         53\n",
       "      AMIGAO - TUPA           63\n",
       "      AMIGAO - UMUARAMA I     49\n",
       "      AMIGAO - UMUARAMA II    50\n",
       "      AMIGAO - ZONA NORTE     46\n",
       "Name: id, Length: 193, dtype: int64"
      ]
     },
     "execution_count": 91,
     "metadata": {},
     "output_type": "execute_result"
    }
   ],
   "source": [
    "# 4º) QUantidade distinta de 'id' que deram \"não gostou\" por loja\n",
    "dislikes_oferta_loja = df_oferta[df_oferta['resposta'] == 'não gostou'].groupby(['ano','unidade'])['id'].nunique()\n",
    "dislikes_oferta_loja"
   ]
  },
  {
   "cell_type": "code",
   "execution_count": 92,
   "metadata": {},
   "outputs": [
    {
     "data": {
      "text/plain": [
       "ano\n",
       "2022    0.828029\n",
       "2023    0.824328\n",
       "2024    0.800612\n",
       "Name: id, dtype: float64"
      ]
     },
     "execution_count": 92,
     "metadata": {},
     "output_type": "execute_result"
    }
   ],
   "source": [
    "# 3º) Percentual de likes REDE (oferta)\n",
    "percent_likes_oferta_rede = (likes_oferta_rede/(likes_oferta_rede+dislikes_oferta_rede))\n",
    "percent_likes_oferta_rede"
   ]
  },
  {
   "cell_type": "code",
   "execution_count": 93,
   "metadata": {},
   "outputs": [
    {
     "data": {
      "text/plain": [
       "ano   unidade             \n",
       "2022  AMIGAO - ALVORADA       0.684211\n",
       "      AMIGAO - APUCARANA      0.833333\n",
       "      AMIGAO - ARACATUBA      0.727273\n",
       "      AMIGAO - ARAPONGAS      0.833333\n",
       "      AMIGAO - ASSIS          0.838710\n",
       "                                ...   \n",
       "2024  AMIGAO - TUIUTI         0.710383\n",
       "      AMIGAO - TUPA           0.831099\n",
       "      AMIGAO - UMUARAMA I     0.820513\n",
       "      AMIGAO - UMUARAMA II    0.843750\n",
       "      AMIGAO - ZONA NORTE     0.799127\n",
       "Name: id, Length: 194, dtype: float64"
      ]
     },
     "execution_count": 93,
     "metadata": {},
     "output_type": "execute_result"
    }
   ],
   "source": [
    "# 3º) Percentual de likes Loja (oferta)\n",
    "percent_likes_oferta_loja = (likes_oferta_loja/(likes_oferta_loja+dislikes_oferta_loja))\n",
    "percent_likes_oferta_loja"
   ]
  },
  {
   "cell_type": "code",
   "execution_count": 94,
   "metadata": {},
   "outputs": [],
   "source": [
    "percent_likes_oferta_rede.to_excel(r\"C:\\Users\\Bruno.Freitas\\Downloads\\analise_24m_NPS\\oferta_rede_ano.xlsx\")"
   ]
  },
  {
   "cell_type": "code",
   "execution_count": 95,
   "metadata": {},
   "outputs": [],
   "source": [
    "percent_likes_oferta_loja.to_excel(r\"C:\\Users\\Bruno.Freitas\\Downloads\\analise_24m_NPS\\oferta_loja_ano.xlsx\")"
   ]
  },
  {
   "cell_type": "code",
   "execution_count": null,
   "metadata": {},
   "outputs": [],
   "source": [
    "# # Filtro na coluna de pergunta apenas com \"Preço\" e só varejo\n",
    "# df_sinalizacao = df_varejo[\n",
    "#     ((df_varejo['pergunta'] =='Sinalização do preço na prateleira') |\n",
    "#     (df_varejo['pergunta'] =='Sinalização do preço nas prateleiras') |\n",
    "#     (df_varejo['pergunta'] =='Sinalização das ofertas'))\n",
    "#     ]"
   ]
  },
  {
   "cell_type": "code",
   "execution_count": 131,
   "metadata": {},
   "outputs": [],
   "source": [
    "# Filtro na coluna de pergunta apenas com \"Preço\" e só varejo\n",
    "df_sinalizacao1 = df_varejo[\n",
    "    (df_varejo['pergunta'] =='Sinalização das ofertas')\n",
    "    ]"
   ]
  },
  {
   "cell_type": "code",
   "execution_count": 132,
   "metadata": {},
   "outputs": [],
   "source": [
    "# Filtro na coluna de pergunta apenas com \"Preço\" e só varejo\n",
    "df_sinalizacao = df_varejo[\n",
    "    ((df_varejo['pergunta'] =='Sinalização do preço na prateleira') |\n",
    "    (df_varejo['pergunta'] =='Sinalização do preço nas prateleiras'))\n",
    "    ]"
   ]
  },
  {
   "cell_type": "code",
   "execution_count": 133,
   "metadata": {},
   "outputs": [
    {
     "data": {
      "text/plain": [
       "ano_mes\n",
       "2023-05       6\n",
       "2023-06     163\n",
       "2023-07     188\n",
       "2023-08     121\n",
       "2023-09      82\n",
       "2023-10     113\n",
       "2023-11     224\n",
       "2023-12     378\n",
       "2024-01    1505\n",
       "2024-02    1387\n",
       "2024-03    1333\n",
       "2024-04    1302\n",
       "2024-05    1681\n",
       "2024-06    1285\n",
       "2024-07    1547\n",
       "2024-08    1438\n",
       "Freq: M, Name: id, dtype: int64"
      ]
     },
     "execution_count": 133,
     "metadata": {},
     "output_type": "execute_result"
    }
   ],
   "source": [
    "# 1º) QUantidade distinta de 'id' que deram \"gostou\"\n",
    "likes_sinal_rede = df_sinalizacao[df_sinalizacao['resposta'] == 'gostou'].groupby('ano_mes')['id'].nunique()\n",
    "likes_sinal_rede"
   ]
  },
  {
   "cell_type": "code",
   "execution_count": 134,
   "metadata": {},
   "outputs": [
    {
     "data": {
      "text/plain": [
       "ano_mes\n",
       "2022-08    274\n",
       "2022-09    360\n",
       "2022-10    329\n",
       "2022-11    383\n",
       "2022-12    423\n",
       "2023-01    431\n",
       "2023-02    447\n",
       "2023-03    359\n",
       "2023-04    189\n",
       "2023-05    192\n",
       "Freq: M, Name: id, dtype: int64"
      ]
     },
     "execution_count": 134,
     "metadata": {},
     "output_type": "execute_result"
    }
   ],
   "source": [
    "# 1º) QUantidade distinta de 'id' que deram \"gostou\"\n",
    "likes_sinal1_rede = df_sinalizacao1[df_sinalizacao1['resposta'] == 'gostou'].groupby('ano_mes')['id'].nunique()\n",
    "likes_sinal1_rede"
   ]
  },
  {
   "cell_type": "code",
   "execution_count": 135,
   "metadata": {},
   "outputs": [
    {
     "data": {
      "text/plain": [
       "ano_mes\n",
       "2023-06     48\n",
       "2023-07     61\n",
       "2023-08     28\n",
       "2023-09     18\n",
       "2023-10     37\n",
       "2023-11     81\n",
       "2023-12    123\n",
       "2024-01    582\n",
       "2024-02    554\n",
       "2024-03    503\n",
       "2024-04    497\n",
       "2024-05    704\n",
       "2024-06    445\n",
       "2024-07    491\n",
       "2024-08    509\n",
       "Freq: M, Name: id, dtype: int64"
      ]
     },
     "execution_count": 135,
     "metadata": {},
     "output_type": "execute_result"
    }
   ],
   "source": [
    "# 2º) QUantidade distinta de 'id' que deram \"não gostou\"\n",
    "dislikes_sinal_rede = df_sinalizacao[df_sinalizacao['resposta'] == 'não gostou'].groupby('ano_mes')['id'].nunique()\n",
    "dislikes_sinal_rede"
   ]
  },
  {
   "cell_type": "code",
   "execution_count": 136,
   "metadata": {},
   "outputs": [
    {
     "data": {
      "text/plain": [
       "ano_mes\n",
       "2022-08    59\n",
       "2022-09    61\n",
       "2022-10    62\n",
       "2022-11    58\n",
       "2022-12    73\n",
       "2023-01    72\n",
       "2023-02    83\n",
       "2023-03    59\n",
       "2023-04    34\n",
       "2023-05    35\n",
       "Freq: M, Name: id, dtype: int64"
      ]
     },
     "execution_count": 136,
     "metadata": {},
     "output_type": "execute_result"
    }
   ],
   "source": [
    "# 2º) QUantidade distinta de 'id' que deram \"não gostou\"\n",
    "dislikes_sinal1_rede = df_sinalizacao1[df_sinalizacao1['resposta'] == 'não gostou'].groupby('ano_mes')['id'].nunique()\n",
    "dislikes_sinal1_rede"
   ]
  },
  {
   "cell_type": "code",
   "execution_count": 137,
   "metadata": {},
   "outputs": [
    {
     "data": {
      "text/plain": [
       "ano_mes  Regionais             \n",
       "2023-05  REGIONAL 3 - UMUARAMA       4\n",
       "         REGIONAL 7 - LINS           2\n",
       "2023-06  REGIONAL 1 - MARINGÁ 1     26\n",
       "         REGIONAL 2 - MARINGÁ 2     30\n",
       "         REGIONAL 3 - UMUARAMA      16\n",
       "                                  ... \n",
       "2024-08  REGIONAL 3 - UMUARAMA     287\n",
       "         REGIONAL 4 - LONDRINA     334\n",
       "         REGIONAL 5 - ARAÇATUBA    207\n",
       "         REGIONAL 6 - SJRP         141\n",
       "         REGIONAL 7 - LINS         192\n",
       "Name: id, Length: 110, dtype: int64"
      ]
     },
     "execution_count": 137,
     "metadata": {},
     "output_type": "execute_result"
    }
   ],
   "source": [
    "# 3º) QUantidade distinta de 'id' que deram \"gostou\" por loja\n",
    "likes_sinal_loja = df_sinalizacao[df_sinalizacao['resposta'] == 'gostou'].groupby(['ano_mes','Regionais'])['id'].nunique()\n",
    "likes_sinal_loja"
   ]
  },
  {
   "cell_type": "code",
   "execution_count": 138,
   "metadata": {},
   "outputs": [
    {
     "data": {
      "text/plain": [
       "ano_mes  Regionais             \n",
       "2022-08  REGIONAL 1 - MARINGÁ 1    26\n",
       "         REGIONAL 2 - MARINGÁ 2    21\n",
       "         REGIONAL 3 - UMUARAMA     88\n",
       "         REGIONAL 4 - LONDRINA     36\n",
       "         REGIONAL 5 - ARAÇATUBA    47\n",
       "                                   ..\n",
       "2023-05  REGIONAL 3 - UMUARAMA     33\n",
       "         REGIONAL 4 - LONDRINA     40\n",
       "         REGIONAL 5 - ARAÇATUBA    15\n",
       "         REGIONAL 6 - SJRP         27\n",
       "         REGIONAL 7 - LINS         26\n",
       "Name: id, Length: 70, dtype: int64"
      ]
     },
     "execution_count": 138,
     "metadata": {},
     "output_type": "execute_result"
    }
   ],
   "source": [
    "# 3º) QUantidade distinta de 'id' que deram \"gostou\" por loja\n",
    "likes_sinal1_loja = df_sinalizacao1[df_sinalizacao1['resposta'] == 'gostou'].groupby(['ano_mes','Regionais'])['id'].nunique()\n",
    "likes_sinal1_loja"
   ]
  },
  {
   "cell_type": "code",
   "execution_count": 139,
   "metadata": {},
   "outputs": [
    {
     "data": {
      "text/plain": [
       "ano_mes  Regionais             \n",
       "2023-06  REGIONAL 1 - MARINGÁ 1     9\n",
       "         REGIONAL 2 - MARINGÁ 2    16\n",
       "         REGIONAL 3 - UMUARAMA      3\n",
       "         REGIONAL 4 - LONDRINA      5\n",
       "         REGIONAL 5 - ARAÇATUBA     4\n",
       "                                   ..\n",
       "2024-08  REGIONAL 3 - UMUARAMA     70\n",
       "         REGIONAL 4 - LONDRINA     95\n",
       "         REGIONAL 5 - ARAÇATUBA    65\n",
       "         REGIONAL 6 - SJRP         51\n",
       "         REGIONAL 7 - LINS         85\n",
       "Name: id, Length: 107, dtype: int64"
      ]
     },
     "execution_count": 139,
     "metadata": {},
     "output_type": "execute_result"
    }
   ],
   "source": [
    "# 4º) QUantidade distinta de 'id' que deram \"não gostou\" por loja\n",
    "dislikes_sinal_loja = df_sinalizacao[df_sinalizacao['resposta'] == 'não gostou'].groupby(['ano_mes','Regionais'])['id'].nunique()\n",
    "dislikes_sinal_loja"
   ]
  },
  {
   "cell_type": "code",
   "execution_count": 140,
   "metadata": {},
   "outputs": [
    {
     "data": {
      "text/plain": [
       "ano_mes  Regionais             \n",
       "2022-08  REGIONAL 1 - MARINGÁ 1     8\n",
       "         REGIONAL 2 - MARINGÁ 2     9\n",
       "         REGIONAL 3 - UMUARAMA     15\n",
       "         REGIONAL 4 - LONDRINA      8\n",
       "         REGIONAL 5 - ARAÇATUBA     6\n",
       "                                   ..\n",
       "2023-05  REGIONAL 2 - MARINGÁ 2     9\n",
       "         REGIONAL 3 - UMUARAMA      5\n",
       "         REGIONAL 4 - LONDRINA     10\n",
       "         REGIONAL 6 - SJRP          3\n",
       "         REGIONAL 7 - LINS          3\n",
       "Name: id, Length: 69, dtype: int64"
      ]
     },
     "execution_count": 140,
     "metadata": {},
     "output_type": "execute_result"
    }
   ],
   "source": [
    "# 4º) QUantidade distinta de 'id' que deram \"não gostou\" por loja\n",
    "dislikes_sinal1_loja = df_sinalizacao1[df_sinalizacao1['resposta'] == 'não gostou'].groupby(['ano_mes','Regionais'])['id'].nunique()\n",
    "dislikes_sinal1_loja"
   ]
  },
  {
   "cell_type": "code",
   "execution_count": 151,
   "metadata": {},
   "outputs": [
    {
     "data": {
      "text/plain": [
       "ano_mes\n",
       "2023-05         NaN\n",
       "2023-06    0.772512\n",
       "2023-07    0.755020\n",
       "2023-08    0.812081\n",
       "2023-09    0.820000\n",
       "2023-10    0.753333\n",
       "2023-11    0.734426\n",
       "2023-12    0.754491\n",
       "2024-01    0.721131\n",
       "2024-02    0.714580\n",
       "2024-03    0.726035\n",
       "2024-04    0.723735\n",
       "2024-05    0.704822\n",
       "2024-06    0.742775\n",
       "2024-07    0.759078\n",
       "2024-08    0.738572\n",
       "Freq: M, Name: id, dtype: float64"
      ]
     },
     "execution_count": 151,
     "metadata": {},
     "output_type": "execute_result"
    }
   ],
   "source": [
    "# 3º) Percentual de likes REDE (Sinalização)\n",
    "percent_likes_sinal_rede = likes_sinal_rede/(likes_sinal_rede+dislikes_sinal_rede)\n",
    "percent_likes_sinal_rede"
   ]
  },
  {
   "cell_type": "code",
   "execution_count": 153,
   "metadata": {},
   "outputs": [
    {
     "data": {
      "text/plain": [
       "ano_mes\n",
       "2022-08    0.822823\n",
       "2022-09    0.855107\n",
       "2022-10    0.841432\n",
       "2022-11    0.868481\n",
       "2022-12    0.852823\n",
       "2023-01    0.856859\n",
       "2023-02    0.843396\n",
       "2023-03    0.858852\n",
       "2023-04    0.847534\n",
       "2023-05    0.845815\n",
       "Freq: M, Name: id, dtype: float64"
      ]
     },
     "execution_count": 153,
     "metadata": {},
     "output_type": "execute_result"
    }
   ],
   "source": [
    "# 3º) Percentual de likes REDE (Sinalização)\n",
    "percent_likes_sinal1_rede = likes_sinal1_rede/(likes_sinal1_rede+dislikes_sinal1_rede)\n",
    "percent_likes_sinal1_rede"
   ]
  },
  {
   "cell_type": "code",
   "execution_count": 154,
   "metadata": {},
   "outputs": [
    {
     "data": {
      "text/plain": [
       "ano_mes  Regionais             \n",
       "2023-05  REGIONAL 3 - UMUARAMA          NaN\n",
       "         REGIONAL 7 - LINS              NaN\n",
       "2023-06  REGIONAL 1 - MARINGÁ 1    0.742857\n",
       "         REGIONAL 2 - MARINGÁ 2    0.652174\n",
       "         REGIONAL 3 - UMUARAMA     0.842105\n",
       "                                     ...   \n",
       "2024-08  REGIONAL 3 - UMUARAMA     0.803922\n",
       "         REGIONAL 4 - LONDRINA     0.778555\n",
       "         REGIONAL 5 - ARAÇATUBA    0.761029\n",
       "         REGIONAL 6 - SJRP         0.734375\n",
       "         REGIONAL 7 - LINS         0.693141\n",
       "Name: id, Length: 110, dtype: float64"
      ]
     },
     "execution_count": 154,
     "metadata": {},
     "output_type": "execute_result"
    }
   ],
   "source": [
    "# 3º) Percentual de likes Loja (Sinalização)\n",
    "percent_likes_sinal_loja = (likes_sinal_loja/(likes_sinal_loja+dislikes_sinal_loja))\n",
    "percent_likes_sinal_loja"
   ]
  },
  {
   "cell_type": "code",
   "execution_count": 155,
   "metadata": {},
   "outputs": [
    {
     "data": {
      "text/plain": [
       "ano_mes  Regionais             \n",
       "2022-08  REGIONAL 1 - MARINGÁ 1    0.764706\n",
       "         REGIONAL 2 - MARINGÁ 2    0.700000\n",
       "         REGIONAL 3 - UMUARAMA     0.854369\n",
       "         REGIONAL 4 - LONDRINA     0.818182\n",
       "         REGIONAL 5 - ARAÇATUBA    0.886792\n",
       "                                     ...   \n",
       "2023-05  REGIONAL 3 - UMUARAMA     0.868421\n",
       "         REGIONAL 4 - LONDRINA     0.800000\n",
       "         REGIONAL 5 - ARAÇATUBA         NaN\n",
       "         REGIONAL 6 - SJRP         0.900000\n",
       "         REGIONAL 7 - LINS         0.896552\n",
       "Name: id, Length: 70, dtype: float64"
      ]
     },
     "execution_count": 155,
     "metadata": {},
     "output_type": "execute_result"
    }
   ],
   "source": [
    "# 3º) Percentual de likes Loja (Sinalização)\n",
    "percent_likes_sinal1_loja = (likes_sinal1_loja/(likes_sinal1_loja+dislikes_sinal1_loja))\n",
    "percent_likes_sinal1_loja"
   ]
  },
  {
   "cell_type": "code",
   "execution_count": 156,
   "metadata": {},
   "outputs": [],
   "source": [
    "percent_likes_sinal_rede.to_excel(r\"C:\\Users\\Bruno.Freitas\\Downloads\\analise_24m_NPS\\SINAL_REDE_mes.xlsx\")"
   ]
  },
  {
   "cell_type": "code",
   "execution_count": 157,
   "metadata": {},
   "outputs": [],
   "source": [
    "percent_likes_sinal_loja.to_excel(r\"C:\\Users\\Bruno.Freitas\\Downloads\\analise_24m_NPS\\SINAL_LOJA_mes.xlsx\")"
   ]
  },
  {
   "cell_type": "code",
   "execution_count": null,
   "metadata": {},
   "outputs": [],
   "source": [
    "# FIM"
   ]
  },
  {
   "cell_type": "code",
   "execution_count": 43,
   "metadata": {},
   "outputs": [],
   "source": [
    "# Filtro na coluna de pergunta apenas com \"Preço\" e só varejo\n",
    "df_divergencia = df_varejo[\n",
    "    ((df_varejo['pergunta'] =='Preço no caixa igual o da prateleira?') |\n",
    "    (df_varejo['pergunta'] =='Preço no caixa igual ao da prateleira'))\n",
    "    ]"
   ]
  },
  {
   "cell_type": "code",
   "execution_count": 45,
   "metadata": {},
   "outputs": [
    {
     "data": {
      "text/html": [
       "<div>\n",
       "<style scoped>\n",
       "    .dataframe tbody tr th:only-of-type {\n",
       "        vertical-align: middle;\n",
       "    }\n",
       "\n",
       "    .dataframe tbody tr th {\n",
       "        vertical-align: top;\n",
       "    }\n",
       "\n",
       "    .dataframe thead th {\n",
       "        text-align: right;\n",
       "    }\n",
       "</style>\n",
       "<table border=\"1\" class=\"dataframe\">\n",
       "  <thead>\n",
       "    <tr style=\"text-align: right;\">\n",
       "      <th></th>\n",
       "      <th>id</th>\n",
       "      <th>transaction_id</th>\n",
       "      <th>jornada</th>\n",
       "      <th>criado_em</th>\n",
       "      <th>id_loja</th>\n",
       "      <th>unidade</th>\n",
       "      <th>ref_unidade</th>\n",
       "      <th>bandeira</th>\n",
       "      <th>id_filial</th>\n",
       "      <th>cidade</th>\n",
       "      <th>departamento</th>\n",
       "      <th>setor1</th>\n",
       "      <th>tipo_cliente</th>\n",
       "      <th>funcionario</th>\n",
       "      <th>horario_transacao</th>\n",
       "      <th>id_cliente</th>\n",
       "      <th>cliente</th>\n",
       "      <th>email</th>\n",
       "      <th>telefone</th>\n",
       "      <th>avaliado_em</th>\n",
       "      <th>avaliado_edit</th>\n",
       "      <th>nota</th>\n",
       "      <th>canal de resposta</th>\n",
       "      <th>comentario</th>\n",
       "      <th>pergunta</th>\n",
       "      <th>resposta</th>\n",
       "      <th>ref_cliente</th>\n",
       "      <th>ano_mes</th>\n",
       "      <th>ano</th>\n",
       "      <th>Regionais</th>\n",
       "    </tr>\n",
       "  </thead>\n",
       "  <tbody>\n",
       "    <tr>\n",
       "      <th>13</th>\n",
       "      <td>77483919</td>\n",
       "      <td>CSD-8012024512024-08-nps_amigao_</td>\n",
       "      <td>nps_amigao_whatsapp</td>\n",
       "      <td>2024-08-31</td>\n",
       "      <td>21493</td>\n",
       "      <td>AMIGAO - NAVIRAI</td>\n",
       "      <td>AM_NAVIRAI</td>\n",
       "      <td>AM</td>\n",
       "      <td>84</td>\n",
       "      <td>NAVIRAÍ</td>\n",
       "      <td>GERAL</td>\n",
       "      <td>AV DOURADOS,CENTRO,NAVIRAÍ,MS</td>\n",
       "      <td>PF</td>\n",
       "      <td>N</td>\n",
       "      <td>11:14:00</td>\n",
       "      <td>4700419</td>\n",
       "      <td>CLEODIANE  ALBUQUERQUE REZENDE</td>\n",
       "      <td>cleorezende1987@hotmail.com</td>\n",
       "      <td>67996653560</td>\n",
       "      <td>2024-09-02 11:27:08</td>\n",
       "      <td>2024-09-02 11:27:08</td>\n",
       "      <td>10</td>\n",
       "      <td>Whatsapp</td>\n",
       "      <td>False</td>\n",
       "      <td>Preço no caixa igual ao da prateleira</td>\n",
       "      <td>gostou</td>\n",
       "      <td>801202451</td>\n",
       "      <td>2024-08</td>\n",
       "      <td>2024</td>\n",
       "      <td>REGIONAL 3 - UMUARAMA</td>\n",
       "    </tr>\n",
       "    <tr>\n",
       "      <th>35</th>\n",
       "      <td>77484289</td>\n",
       "      <td>CSD-89987444302024-08-nps_amigao</td>\n",
       "      <td>nps_amigao_whatsapp</td>\n",
       "      <td>2024-08-31</td>\n",
       "      <td>10694</td>\n",
       "      <td>AMIGAO - MORANGUEIRA</td>\n",
       "      <td>AM_MORANGUEIRA</td>\n",
       "      <td>AM</td>\n",
       "      <td>9</td>\n",
       "      <td>MARINGA</td>\n",
       "      <td>GERAL</td>\n",
       "      <td>AVENIDA MORANGUEIRA N.1505,VILA MORANGUEIRA,MA...</td>\n",
       "      <td>PF</td>\n",
       "      <td>N</td>\n",
       "      <td>11:22:00</td>\n",
       "      <td>3832403</td>\n",
       "      <td>ANGELO TAKEO TURUSHIMA</td>\n",
       "      <td>turushima@hotmail.com</td>\n",
       "      <td>44991387596</td>\n",
       "      <td>2024-09-02 12:05:06</td>\n",
       "      <td>2024-09-02 12:05:06</td>\n",
       "      <td>10</td>\n",
       "      <td>Whatsapp</td>\n",
       "      <td>False</td>\n",
       "      <td>Preço no caixa igual ao da prateleira</td>\n",
       "      <td>gostou</td>\n",
       "      <td>8998744430</td>\n",
       "      <td>2024-08</td>\n",
       "      <td>2024</td>\n",
       "      <td>REGIONAL 2 - MARINGÁ 2</td>\n",
       "    </tr>\n",
       "  </tbody>\n",
       "</table>\n",
       "</div>"
      ],
      "text/plain": [
       "          id                    transaction_id              jornada  \\\n",
       "13  77483919  CSD-8012024512024-08-nps_amigao_  nps_amigao_whatsapp   \n",
       "35  77484289  CSD-89987444302024-08-nps_amigao  nps_amigao_whatsapp   \n",
       "\n",
       "    criado_em  id_loja               unidade     ref_unidade bandeira  \\\n",
       "13 2024-08-31    21493      AMIGAO - NAVIRAI      AM_NAVIRAI       AM   \n",
       "35 2024-08-31    10694  AMIGAO - MORANGUEIRA  AM_MORANGUEIRA       AM   \n",
       "\n",
       "   id_filial   cidade departamento  \\\n",
       "13        84  NAVIRAÍ        GERAL   \n",
       "35         9  MARINGA        GERAL   \n",
       "\n",
       "                                               setor1 tipo_cliente  \\\n",
       "13                      AV DOURADOS,CENTRO,NAVIRAÍ,MS           PF   \n",
       "35  AVENIDA MORANGUEIRA N.1505,VILA MORANGUEIRA,MA...           PF   \n",
       "\n",
       "   funcionario horario_transacao id_cliente                         cliente  \\\n",
       "13           N          11:14:00    4700419  CLEODIANE  ALBUQUERQUE REZENDE   \n",
       "35           N          11:22:00    3832403          ANGELO TAKEO TURUSHIMA   \n",
       "\n",
       "                          email     telefone          avaliado_em  \\\n",
       "13  cleorezende1987@hotmail.com  67996653560  2024-09-02 11:27:08   \n",
       "35        turushima@hotmail.com  44991387596  2024-09-02 12:05:06   \n",
       "\n",
       "          avaliado_edit nota canal de resposta comentario  \\\n",
       "13  2024-09-02 11:27:08   10          Whatsapp      False   \n",
       "35  2024-09-02 12:05:06   10          Whatsapp      False   \n",
       "\n",
       "                                 pergunta resposta ref_cliente  ano_mes   ano  \\\n",
       "13  Preço no caixa igual ao da prateleira   gostou   801202451  2024-08  2024   \n",
       "35  Preço no caixa igual ao da prateleira   gostou  8998744430  2024-08  2024   \n",
       "\n",
       "                 Regionais  \n",
       "13   REGIONAL 3 - UMUARAMA  \n",
       "35  REGIONAL 2 - MARINGÁ 2  "
      ]
     },
     "execution_count": 45,
     "metadata": {},
     "output_type": "execute_result"
    }
   ],
   "source": [
    "df_divergencia.head(2)"
   ]
  },
  {
   "cell_type": "code",
   "execution_count": 51,
   "metadata": {},
   "outputs": [
    {
     "data": {
      "text/plain": [
       "ano_mes\n",
       "2023-05       6\n",
       "2023-06     174\n",
       "2023-07     204\n",
       "2023-08     125\n",
       "2023-09      81\n",
       "2023-10     117\n",
       "2023-11     237\n",
       "2023-12     407\n",
       "2024-01    1676\n",
       "2024-02    1586\n",
       "2024-03    1515\n",
       "2024-04    1453\n",
       "2024-05    1877\n",
       "2024-06    1330\n",
       "2024-07    1585\n",
       "2024-08    1533\n",
       "Freq: M, Name: id, dtype: int64"
      ]
     },
     "execution_count": 51,
     "metadata": {},
     "output_type": "execute_result"
    }
   ],
   "source": [
    "# 1º) QUantidade distinta de 'id' que deram \"gostou\"\n",
    "likes_diver_rede = df_divergencia[df_divergencia['resposta'] == 'gostou'].groupby('ano_mes')['id'].nunique()\n",
    "likes_diver_rede"
   ]
  },
  {
   "cell_type": "code",
   "execution_count": 52,
   "metadata": {},
   "outputs": [
    {
     "data": {
      "text/plain": [
       "ano_mes\n",
       "2023-06     36\n",
       "2023-07     44\n",
       "2023-08     24\n",
       "2023-09     20\n",
       "2023-10     35\n",
       "2023-11     68\n",
       "2023-12    107\n",
       "2024-01    389\n",
       "2024-02    419\n",
       "2024-03    381\n",
       "2024-04    395\n",
       "2024-05    498\n",
       "2024-06    328\n",
       "2024-07    387\n",
       "2024-08    361\n",
       "Freq: M, Name: id, dtype: int64"
      ]
     },
     "execution_count": 52,
     "metadata": {},
     "output_type": "execute_result"
    }
   ],
   "source": [
    "# 2º) QUantidade distinta de 'id' que deram \"não gostou\"\n",
    "dislikes_diver_rede = df_divergencia[df_divergencia['resposta'] == 'não gostou'].groupby('ano_mes')['id'].nunique()\n",
    "dislikes_diver_rede"
   ]
  },
  {
   "cell_type": "code",
   "execution_count": 46,
   "metadata": {},
   "outputs": [
    {
     "data": {
      "text/plain": [
       "ano_mes  Regionais             \n",
       "2023-05  REGIONAL 3 - UMUARAMA       4\n",
       "         REGIONAL 7 - LINS           2\n",
       "2023-06  REGIONAL 1 - MARINGÁ 1     26\n",
       "         REGIONAL 2 - MARINGÁ 2     33\n",
       "         REGIONAL 3 - UMUARAMA      18\n",
       "                                  ... \n",
       "2024-08  REGIONAL 3 - UMUARAMA     292\n",
       "         REGIONAL 4 - LONDRINA     300\n",
       "         REGIONAL 5 - ARAÇATUBA    249\n",
       "         REGIONAL 6 - SJRP         160\n",
       "         REGIONAL 7 - LINS         215\n",
       "Name: id, Length: 110, dtype: int64"
      ]
     },
     "execution_count": 46,
     "metadata": {},
     "output_type": "execute_result"
    }
   ],
   "source": [
    "# 3º) QUantidade distinta de 'id' que deram \"gostou\" por loja\n",
    "likes_diver_loja = df_divergencia[df_divergencia['resposta'] == 'gostou'].groupby(['ano_mes','Regionais'])['id'].nunique()\n",
    "likes_diver_loja"
   ]
  },
  {
   "cell_type": "code",
   "execution_count": 47,
   "metadata": {},
   "outputs": [
    {
     "data": {
      "text/plain": [
       "ano_mes  Regionais             \n",
       "2023-06  REGIONAL 1 - MARINGÁ 1     9\n",
       "         REGIONAL 2 - MARINGÁ 2    12\n",
       "         REGIONAL 3 - UMUARAMA      1\n",
       "         REGIONAL 4 - LONDRINA      4\n",
       "         REGIONAL 5 - ARAÇATUBA     3\n",
       "                                   ..\n",
       "2024-08  REGIONAL 3 - UMUARAMA     47\n",
       "         REGIONAL 4 - LONDRINA     70\n",
       "         REGIONAL 5 - ARAÇATUBA    38\n",
       "         REGIONAL 6 - SJRP         44\n",
       "         REGIONAL 7 - LINS         49\n",
       "Name: id, Length: 105, dtype: int64"
      ]
     },
     "execution_count": 47,
     "metadata": {},
     "output_type": "execute_result"
    }
   ],
   "source": [
    "# 4º) QUantidade distinta de 'id' que deram \"gostou\" por loja\n",
    "dislikes_diver_loja = df_divergencia[df_divergencia['resposta'] == 'não gostou'].groupby(['ano_mes','Regionais'])['id'].nunique()\n",
    "dislikes_diver_loja"
   ]
  },
  {
   "cell_type": "code",
   "execution_count": 54,
   "metadata": {},
   "outputs": [
    {
     "data": {
      "text/plain": [
       "ano_mes\n",
       "2023-05         NaN\n",
       "2023-06    0.828571\n",
       "2023-07    0.822581\n",
       "2023-08    0.838926\n",
       "2023-09    0.801980\n",
       "2023-10    0.769737\n",
       "2023-11    0.777049\n",
       "2023-12    0.791829\n",
       "2024-01    0.811622\n",
       "2024-02    0.791022\n",
       "2024-03    0.799051\n",
       "2024-04    0.786255\n",
       "2024-05    0.790316\n",
       "2024-06    0.802171\n",
       "2024-07    0.803753\n",
       "2024-08    0.809398\n",
       "Freq: M, Name: id, dtype: float64"
      ]
     },
     "execution_count": 54,
     "metadata": {},
     "output_type": "execute_result"
    }
   ],
   "source": [
    "# 5º) Percentual de likes REDE (Sinalização)\n",
    "percent_likes_diver_rede = (likes_diver_rede/(likes_diver_rede+dislikes_diver_rede))\n",
    "percent_likes_diver_rede"
   ]
  },
  {
   "cell_type": "code",
   "execution_count": 55,
   "metadata": {},
   "outputs": [
    {
     "data": {
      "text/plain": [
       "ano_mes  Regionais             \n",
       "2023-05  REGIONAL 3 - UMUARAMA          NaN\n",
       "         REGIONAL 7 - LINS              NaN\n",
       "2023-06  REGIONAL 1 - MARINGÁ 1    0.742857\n",
       "         REGIONAL 2 - MARINGÁ 2    0.733333\n",
       "         REGIONAL 3 - UMUARAMA     0.947368\n",
       "                                     ...   \n",
       "2024-08  REGIONAL 3 - UMUARAMA     0.861357\n",
       "         REGIONAL 4 - LONDRINA     0.810811\n",
       "         REGIONAL 5 - ARAÇATUBA    0.867596\n",
       "         REGIONAL 6 - SJRP         0.784314\n",
       "         REGIONAL 7 - LINS         0.814394\n",
       "Name: id, Length: 110, dtype: float64"
      ]
     },
     "execution_count": 55,
     "metadata": {},
     "output_type": "execute_result"
    }
   ],
   "source": [
    "# 3º) Percentual de likes Loja (Sinalização)\n",
    "percent_likes_diver_loja = (likes_diver_loja/(likes_diver_loja+dislikes_diver_loja))\n",
    "percent_likes_diver_loja"
   ]
  },
  {
   "cell_type": "code",
   "execution_count": 56,
   "metadata": {},
   "outputs": [],
   "source": [
    "percent_likes_diver_rede.to_excel(r\"C:\\Users\\Bruno.Freitas\\Downloads\\analise_24m_NPS\\divergencia_rede_mes.xlsx\")"
   ]
  },
  {
   "cell_type": "code",
   "execution_count": 57,
   "metadata": {},
   "outputs": [],
   "source": [
    "percent_likes_diver_loja.to_excel(r\"C:\\Users\\Bruno.Freitas\\Downloads\\analise_24m_NPS\\divergencia_regional_mes.xlsx\")"
   ]
  },
  {
   "cell_type": "code",
   "execution_count": 105,
   "metadata": {},
   "outputs": [],
   "source": [
    "# Filtro na coluna de pergunta apenas com \"Sinalização do preço na prateleira\" e \"Sinalização do preço nas prateleiras\" e só varejo\n",
    "df_sinalizacao = df_raw[(df_raw['pergunta'].isin(['Sinalização do preço na prateleira', 'Sinalização do preço nas prateleiras','Sinalização das ofertas'])) &\n",
    "                        ((df_raw['jornada'] == 'nps_amigao') |\n",
    "                         (df_raw['jornada'] == 'nps_cc') |\n",
    "                         (df_raw['jornada'] == 'nps_sf'))]"
   ]
  },
  {
   "cell_type": "code",
   "execution_count": null,
   "metadata": {},
   "outputs": [],
   "source": [
    "# 1º) QUantidade distinta de 'id' que deram \"gostou\"\n",
    "likes_sinal_rede = df_sinalizacao[df_sinalizacao['resposta'] == 'gostou'].groupby('ano_mes')['id'].nunique()\n",
    "likes_sinal_rede"
   ]
  },
  {
   "cell_type": "code",
   "execution_count": null,
   "metadata": {},
   "outputs": [],
   "source": [
    "# 1º) QUantidade distinta de 'id' que deram \"gostou\"\n",
    "likes_sinal_reg = df_sinalizacao[df_sinalizacao['resposta'] == 'gostou'].groupby(['ano_mes','Regionais'])['id'].nunique()\n",
    "likes_sinal_reg"
   ]
  },
  {
   "cell_type": "code",
   "execution_count": null,
   "metadata": {},
   "outputs": [],
   "source": [
    "# 2º) QUantidade distinta de 'id' que deram \"não gostou\"\n",
    "dislikes_sinal_rede = df_sinalizacao[df_sinalizacao['resposta'] == 'não gostou'].groupby('ano_mes')['id'].nunique()\n",
    "dislikes_sinal_rede"
   ]
  },
  {
   "cell_type": "code",
   "execution_count": null,
   "metadata": {},
   "outputs": [],
   "source": [
    "# 2º) QUantidade distinta de 'id' que deram \"não gostou\"\n",
    "dislikes_sinal_reg = df_sinalizacao[df_sinalizacao['resposta'] == 'não gostou'].groupby(['ano_mes','Regionais'])['id'].nunique()\n",
    "dislikes_sinal_reg"
   ]
  },
  {
   "cell_type": "code",
   "execution_count": null,
   "metadata": {},
   "outputs": [],
   "source": [
    "# 3º) Percentual de likes (Preço)\n",
    "percent_likes_sinal_rede = round((likes_sinal_rede/(likes_sinal_rede+dislikes_sinal_rede))*100,0)\n",
    "percent_likes_sinal_rede"
   ]
  },
  {
   "cell_type": "code",
   "execution_count": null,
   "metadata": {},
   "outputs": [],
   "source": [
    "# 3º) Percentual de likes (Preço)\n",
    "percent_likes_sinal_reg = round((likes_sinal_reg/(likes_sinal_reg+dislikes_sinal_reg))*100,0)\n",
    "percent_likes_sinal_reg"
   ]
  },
  {
   "cell_type": "code",
   "execution_count": 112,
   "metadata": {},
   "outputs": [],
   "source": [
    "percent_likes_sinal_reg.to_excel(r\"C:\\Users\\Bruno.Freitas\\Downloads\\sinal_antes_reg.xlsx\")"
   ]
  }
 ],
 "metadata": {
  "kernelspec": {
   "display_name": "Python 3",
   "language": "python",
   "name": "python3"
  },
  "language_info": {
   "codemirror_mode": {
    "name": "ipython",
    "version": 3
   },
   "file_extension": ".py",
   "mimetype": "text/x-python",
   "name": "python",
   "nbconvert_exporter": "python",
   "pygments_lexer": "ipython3",
   "version": "3.10.7"
  }
 },
 "nbformat": 4,
 "nbformat_minor": 2
}
